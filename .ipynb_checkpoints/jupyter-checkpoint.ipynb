{
 "cells": [
  {
   "cell_type": "markdown",
   "metadata": {},
   "source": [
    "# Install Jupyter on windows 10"
   ]
  },
  {
   "cell_type": "markdown",
   "metadata": {},
   "source": [
    "Install jupyter in a virtualenv."
   ]
  },
  {
   "cell_type": "markdown",
   "metadata": {},
   "source": [
    "## 1. Create a virtualenv named jupyter:"
   ]
  },
  {
   "cell_type": "code",
   "execution_count": null,
   "metadata": {},
   "outputs": [],
   "source": [
    "C:\\Users\\Namjoo>mkvirtualenv jupyter"
   ]
  },
  {
   "cell_type": "markdown",
   "metadata": {},
   "source": [
    "created virtual environment CPython3.8.4.final.0-64 in 19388ms\n",
    "  creator CPython3Windows(dest=C:\\Users\\Namjoo\\Envs\\jupyter, clear=False, global=False)\n",
    "  seeder FromAppData(download=False, pip=bundle, setuptools=bundle, wheel=bundle, via=copy, app_data_dir=C:\\Users\\Namjoo\\AppData\\Local\\pypa\\virtualenv)\n",
    "    added seed packages: pip==20.2.4, setuptools==50.3.0, wheel==0.35.1\n",
    "  activators BashActivator,BatchActivator,FishActivator,PowerShellActivator,PythonActivator,XonshActivator\n"
   ]
  },
  {
   "cell_type": "code",
   "execution_count": null,
   "metadata": {},
   "outputs": [],
   "source": [
    "(jupyter) C:\\Users\\Namjoo>e:\n",
    "(jupyter) E:\\>mkdir jupyther        \n",
    "(jupyter) E:\\>cd jupyther\n",
    "(jupyter) E:\\jupyther>setprojectdir .   #set current directory for virtualenv"
   ]
  },
  {
   "cell_type": "markdown",
   "metadata": {},
   "source": [
    "    \"E:\\jupyter\" is now the project directory for\n",
    "    virtualenv \"C:\\Users\\Namjoo\\Envs\\jupyter\"\n",
    "\n",
    "    \"E:\\jupyter\" added to\n",
    "    C:\\Users\\Namjoo\\Envs\\jupyter\\Lib\\site-packages\\virtualenv_path_extensions.pth"
   ]
  },
  {
   "cell_type": "markdown",
   "metadata": {},
   "source": [
    "## 2. Install jupyter and run it:"
   ]
  },
  {
   "cell_type": "code",
   "execution_count": null,
   "metadata": {},
   "outputs": [],
   "source": [
    "(jupyter) E:\\jupyter>pip3 list"
   ]
  },
  {
   "cell_type": "markdown",
   "metadata": {},
   "source": [
    "<pre>\n",
    "Package    Version\n",
    "---------- -------\n",
    "pip        20.2.4\n",
    "setuptools 50.3.0\n",
    "wheel      0.35.1\n",
    "</pre>"
   ]
  },
  {
   "cell_type": "code",
   "execution_count": null,
   "metadata": {},
   "outputs": [],
   "source": [
    "(jupyter) E:\\jupyter>pip3 install jupyter"
   ]
  },
  {
   "cell_type": "markdown",
   "metadata": {},
   "source": [
    "<pre>\n",
    "Collecting jupyter\n",
    "  Using cached jupyter-1.0.0-py2.py3-none-any.whl (2.7 kB)\n",
    "Collecting jupyter-console\n",
    "  Using cached jupyter_console-6.2.0-py3-none-any.whl (22 kB)\n",
    "Collecting ipywidgets\n",
    "  Using cached ipywidgets-7.5.1-py2.py3-none-any.whl (121 kB)\n",
    "Collecting qtconsole\n",
    "  Using cached qtconsole-4.7.7-py2.py3-none-any.whl (118 kB)\n",
    "Collecting notebook\n",
    "  Downloading notebook-6.1.5-py3-none-any.whl (9.5 MB)\n",
    "     |████████████████████████████████| 9.5 MB 16 kB/s\n",
    "WARNING: Retrying (Retry(total=4, connect=None, read=None, redirect=None, status=None)) after connection broken by 'ProtocolError('Connection aborted.', ConnectionResetError(10054, 'An existing connection was forcibly closed by the remote host', None, 10054, None))': /simple/ipykernel/\n",
    "Collecting ipykernel\n",
    "  Using cached ipykernel-5.3.4-py3-none-any.whl (120 kB)\n",
    "Collecting nbconvert\n",
    "  Downloading nbconvert-6.0.7-py3-none-any.whl (552 kB)\n",
    "     |████████████████████████████████| 552 kB 19 kB/s\n",
    "Collecting jupyter-client\n",
    "  Using cached jupyter_client-6.1.7-py3-none-any.whl (108 kB)\n",
    "Collecting prompt-toolkit!=3.0.0,!=3.0.1,<3.1.0,>=2.0.0\n",
    "  Downloading prompt_toolkit-3.0.8-py3-none-any.whl (355 kB)\n",
    "     |████████████████████████████████| 355 kB 19 kB/s\n",
    "Collecting ipython\n",
    "  Downloading ipython-7.19.0-py3-none-any.whl (784 kB)\n",
    "     |████████████████████████████████| 784 kB 40 kB/s\n",
    "Collecting pygments\n",
    "  Downloading Pygments-2.7.2-py3-none-any.whl (948 kB)\n",
    "     |████████████████████████████████| 948 kB 57 kB/s\n",
    "Collecting nbformat>=4.2.0\n",
    "  Downloading nbformat-5.0.8-py3-none-any.whl (172 kB)\n",
    "     |████████████████████████████████| 172 kB 29 kB/s\n",
    "Collecting widgetsnbextension~=3.5.0\n",
    "  Using cached widgetsnbextension-3.5.1-py2.py3-none-any.whl (2.2 MB)\n",
    "Collecting traitlets>=4.3.1\n",
    "  Downloading traitlets-5.0.5-py3-none-any.whl (100 kB)\n",
    "     |████████████████████████████████| 100 kB 55 kB/s\n",
    "Collecting pyzmq>=17.1\n",
    "  Downloading pyzmq-20.0.0-cp38-cp38-win_amd64.whl (1.0 MB)\n",
    "     |████████████████████████████████| 1.0 MB 32 kB/s\n",
    "Collecting qtpy\n",
    "  Using cached QtPy-1.9.0-py2.py3-none-any.whl (54 kB)\n",
    "Collecting ipython-genutils\n",
    "  Using cached ipython_genutils-0.2.0-py2.py3-none-any.whl (26 kB)\n",
    "Collecting jupyter-core\n",
    "  Downloading jupyter_core-4.7.0-py3-none-any.whl (82 kB)\n",
    "     |████████████████████████████████| 82 kB 19 kB/s\n",
    "Collecting jinja2\n",
    "  Using cached Jinja2-2.11.2-py2.py3-none-any.whl (125 kB)\n",
    "Collecting prometheus-client\n",
    "  Downloading prometheus_client-0.9.0-py2.py3-none-any.whl (53 kB)\n",
    "     |████████████████████████████████| 53 kB 28 kB/s\n",
    "Collecting terminado>=0.8.3\n",
    "  Using cached terminado-0.9.1-py3-none-any.whl (13 kB)\n",
    "Collecting argon2-cffi\n",
    "  Using cached argon2_cffi-20.1.0-cp38-cp38-win_amd64.whl (42 kB)\n",
    "Collecting tornado>=5.0\n",
    "  Downloading tornado-6.1-cp38-cp38-win_amd64.whl (422 kB)\n",
    "     |████████████████████████████████| 422 kB 40 kB/s\n",
    "Collecting Send2Trash\n",
    "  Using cached Send2Trash-1.5.0-py3-none-any.whl (12 kB)\n",
    "Collecting bleach\n",
    "  Using cached bleach-3.2.1-py2.py3-none-any.whl (145 kB)\n",
    "Collecting jupyterlab-pygments\n",
    "  Using cached jupyterlab_pygments-0.1.2-py2.py3-none-any.whl (4.6 kB)\n",
    "Collecting testpath\n",
    "  Using cached testpath-0.4.4-py2.py3-none-any.whl (163 kB)\n",
    "Collecting nbclient<0.6.0,>=0.5.0\n",
    "  Downloading nbclient-0.5.1-py3-none-any.whl (65 kB)\n",
    "     |████████████████████████████████| 65 kB 26 kB/s\n",
    "Collecting pandocfilters>=1.4.1\n",
    "  Downloading pandocfilters-1.4.3.tar.gz (16 kB)\n",
    "Collecting entrypoints>=0.2.2\n",
    "  Using cached entrypoints-0.3-py2.py3-none-any.whl (11 kB)\n",
    "Collecting defusedxml\n",
    "  Using cached defusedxml-0.6.0-py2.py3-none-any.whl (23 kB)\n",
    "Collecting mistune<2,>=0.8.1\n",
    "  Using cached mistune-0.8.4-py2.py3-none-any.whl (16 kB)\n",
    "Collecting python-dateutil>=2.1\n",
    "  Using cached python_dateutil-2.8.1-py2.py3-none-any.whl (227 kB)\n",
    "Collecting wcwidth\n",
    "  Using cached wcwidth-0.2.5-py2.py3-none-any.whl (30 kB)\n",
    "Collecting jedi>=0.10\n",
    "  Using cached jedi-0.17.2-py2.py3-none-any.whl (1.4 MB)\n",
    "Collecting backcall\n",
    "  Using cached backcall-0.2.0-py2.py3-none-any.whl (11 kB)\n",
    "Collecting colorama; sys_platform == \"win32\"\n",
    "  Downloading colorama-0.4.4-py2.py3-none-any.whl (16 kB)\n",
    "Collecting decorator\n",
    "  Using cached decorator-4.4.2-py2.py3-none-any.whl (9.2 kB)\n",
    "Requirement already satisfied: setuptools>=18.5 in c:\\users\\namjoo\\envs\\jupyter\\lib\\site-packages (from ipython->jupyter-console->jupyter) (50.3.0)\n",
    "Collecting pickleshare\n",
    "  Using cached pickleshare-0.7.5-py2.py3-none-any.whl (6.9 kB)\n",
    "Collecting jsonschema!=2.5.0,>=2.4\n",
    "  Using cached jsonschema-3.2.0-py2.py3-none-any.whl (56 kB)\n",
    "Collecting pywin32>=1.0; sys_platform == \"win32\"\n",
    "  Downloading pywin32-300-cp38-cp38-win_amd64.whl (9.3 MB)\n",
    "     |████████████████████████████████| 9.3 MB 44 kB/s\n",
    "WARNING: Retrying (Retry(total=4, connect=None, read=None, redirect=None, status=None)) after connection broken by 'ProtocolError('Connection aborted.', ConnectionResetError(10054, 'An existing connection was forcibly closed by the remote host', None, 10054, None))': /simple/markupsafe/\n",
    "Collecting MarkupSafe>=0.23\n",
    "  Using cached MarkupSafe-1.1.1-cp38-cp38-win_amd64.whl (16 kB)\n",
    "Collecting pywinpty>=0.5; os_name == \"nt\"\n",
    "  Using cached pywinpty-0.5.7-cp38-cp38-win_amd64.whl (1.3 MB)\n",
    "Collecting cffi>=1.0.0\n",
    "  Using cached cffi-1.14.3-cp38-cp38-win_amd64.whl (179 kB)\n",
    "Collecting six\n",
    "  Using cached six-1.15.0-py2.py3-none-any.whl (10 kB)\n",
    "Collecting packaging\n",
    "  Using cached packaging-20.4-py2.py3-none-any.whl (37 kB)\n",
    "Collecting webencodings\n",
    "  Using cached webencodings-0.5.1-py2.py3-none-any.whl (11 kB)\n",
    "Collecting nest-asyncio\n",
    "  Downloading nest_asyncio-1.4.3-py3-none-any.whl (5.3 kB)\n",
    "Collecting async-generator\n",
    "  Using cached async_generator-1.10-py3-none-any.whl (18 kB)\n",
    "Collecting parso<0.8.0,>=0.7.0\n",
    "  Using cached parso-0.7.1-py2.py3-none-any.whl (109 kB)\n",
    "Collecting attrs>=17.4.0\n",
    "  Downloading attrs-20.3.0-py2.py3-none-any.whl (49 kB)\n",
    "     |████████████████████████████████| 49 kB 20 kB/s\n",
    "Processing c:\\users\\namjoo\\appdata\\local\\pip\\cache\\wheels\\3d\\22\\08\\7042eb6309c650c7b53615d5df5cc61f1ea9680e7edd3a08d2\\pyrsistent-0.17.3-cp38-cp38-win_amd64.whl\n",
    "Collecting pycparser\n",
    "  Using cached pycparser-2.20-py2.py3-none-any.whl (112 kB)\n",
    "Collecting pyparsing>=2.0.2\n",
    "  Using cached pyparsing-2.4.7-py2.py3-none-any.whl (67 kB)\n",
    "Building wheels for collected packages: pandocfilters\n",
    "  Building wheel for pandocfilters (setup.py) ... done\n",
    "  Created wheel for pandocfilters: filename=pandocfilters-1.4.3-py3-none-any.whl size=7997 sha256=65f1f2875923255bbb16605a1177595e8410d423621a163febb2bec83e77491b\n",
    "  Stored in directory: c:\\users\\namjoo\\appdata\\local\\pip\\cache\\wheels\\fc\\39\\52\\8d6f3cec1cca4ceb44d658427c35711b19d89dbc4914af657f\n",
    "Successfully built pandocfilters\n",
    "Installing collected packages: ipython-genutils, traitlets, pywin32, jupyter-core, pyzmq, tornado, six, python-dateutil, jupyter-client, wcwidth, prompt-toolkit, parso, jedi, backcall, colorama, decorator, pickleshare, pygments, ipython, ipykernel, jupyter-console, attrs, pyrsistent, jsonschema, nbformat, MarkupSafe, jinja2, prometheus-client, pywinpty, terminado, pycparser, cffi, argon2-cffi, Send2Trash, pyparsing, packaging, webencodings, bleach, jupyterlab-pygments, testpath, nest-asyncio, async-generator, nbclient, pandocfilters, entrypoints, defusedxml, mistune, nbconvert, notebook, widgetsnbextension, ipywidgets, qtpy, qtconsole, jupyter\n",
    "Successfully installed MarkupSafe-1.1.1 Send2Trash-1.5.0 argon2-cffi-20.1.0 async-generator-1.10 attrs-20.3.0 backcall-0.2.0 bleach-3.2.1 cffi-1.14.3 colorama-0.4.4 decorator-4.4.2 defusedxml-0.6.0 entrypoints-0.3 ipykernel-5.3.4 ipython-7.19.0 ipython-genutils-0.2.0 ipywidgets-7.5.1 jedi-0.17.2 jinja2-2.11.2 jsonschema-3.2.0 jupyter-1.0.0 jupyter-client-6.1.7 jupyter-console-6.2.0 jupyter-core-4.7.0 jupyterlab-pygments-0.1.2 mistune-0.8.4 nbclient-0.5.1 nbconvert-6.0.7 nbformat-5.0.8 nest-asyncio-1.4.3 notebook-6.1.5 packaging-20.4 pandocfilters-1.4.3 parso-0.7.1 pickleshare-0.7.5 prometheus-client-0.9.0 prompt-toolkit-3.0.8 pycparser-2.20 pygments-2.7.2 pyparsing-2.4.7 pyrsistent-0.17.3 python-dateutil-2.8.1 pywin32-300 pywinpty-0.5.7 pyzmq-20.0.0 qtconsole-4.7.7 qtpy-1.9.0 six-1.15.0 terminado-0.9.1 testpath-0.4.4 tornado-6.1 traitlets-5.0.5 wcwidth-0.2.5 webencodings-0.5.1 widgetsnbextension-3.5.1\n",
    "</pre>"
   ]
  },
  {
   "cell_type": "markdown",
   "metadata": {},
   "source": [
    "### Run jupyter"
   ]
  },
  {
   "cell_type": "code",
   "execution_count": null,
   "metadata": {},
   "outputs": [],
   "source": [
    "(jupyter) E:\\jupyter>jupyter notebook"
   ]
  },
  {
   "cell_type": "markdown",
   "metadata": {},
   "source": [
    "<pre>\n",
    "[I 13:22:12.885 NotebookApp] Serving notebooks from local directory: E:\\jupyter\n",
    "[I 13:22:12.885 NotebookApp] Jupyter Notebook 6.1.5 is running at:\n",
    "[I 13:22:12.886 NotebookApp] http://localhost:8888/?token=2b87027f0f504c33ee15218d40b2960b18a54d30c5f04291\n",
    "[I 13:22:12.886 NotebookApp]  or http://127.0.0.1:8888/?token=2b87027f0f504c33ee15218d40b2960b18a54d30c5f04291\n",
    "[I 13:22:12.887 NotebookApp] Use Control-C to stop this server and shut down all kernels (twice to skip confirmation).\n",
    "[C 13:22:12.991 NotebookApp]\n",
    "\n",
    "    To access the notebook, open this file in a browser:\n",
    "        file:///C:/Users/Namjoo/AppData/Roaming/jupyter/runtime/nbserver-4728-open.html\n",
    "    Or copy and paste one of these URLs:\n",
    "        http://localhost:8888/?token=2b87027f0f504c33ee15218d40b2960b18a54d30c5f04291\n",
    "     or http://127.0.0.1:8888/?token=2b87027f0f504c33ee15218d40b2960b18a54d30c5f04291\n",
    "</pre>"
   ]
  },
  {
   "cell_type": "markdown",
   "metadata": {},
   "source": [
    "## 3. Install jupyterlab"
   ]
  },
  {
   "cell_type": "code",
   "execution_count": null,
   "metadata": {},
   "outputs": [],
   "source": [
    "(jupyter) E:\\jupyter>pip install jupyterlab"
   ]
  },
  {
   "cell_type": "markdown",
   "metadata": {},
   "source": [
    "<pre>\n",
    "Collecting jupyterlab\n",
    "  Downloading jupyterlab-2.2.9-py3-none-any.whl (7.9 MB)\n",
    "     |████████████████████████████████| 7.9 MB 25 kB/s\n",
    "Requirement already satisfied: tornado!=6.0.0,!=6.0.1,!=6.0.2 in c:\\users\\namjoo\\envs\\jupyter\\lib\\site-packages (from jupyterlab) (6.1)\n",
    "Requirement already satisfied: jinja2>=2.10 in c:\\users\\namjoo\\envs\\jupyter\\lib\\site-packages (from jupyterlab) (2.11.2)\n",
    "Requirement already satisfied: notebook>=4.3.1 in c:\\users\\namjoo\\envs\\jupyter\\lib\\site-packages (from jupyterlab) (6.1.5)\n",
    "WARNING: Retrying (Retry(total=4, connect=None, read=None, redirect=None, status=None)) after connection broken by 'ProtocolError('Connection aborted.', ConnectionResetError(10054, 'An existing connection was forcibly closed by the remote host', None, 10054, None))': /simple/jupyterlab-server/\n",
    "Collecting jupyterlab-server<2.0,>=1.1.5\n",
    "  Downloading jupyterlab_server-1.2.0-py3-none-any.whl (29 kB)\n",
    "Requirement already satisfied: MarkupSafe>=0.23 in c:\\users\\namjoo\\envs\\jupyter\\lib\\site-packages (from jinja2>=2.10->jupyterlab) (1.1.1)\n",
    "Requirement already satisfied: ipython-genutils in c:\\users\\namjoo\\envs\\jupyter\\lib\\site-packages (from notebook>=4.3.1->jupyterlab) (0.2.0)\n",
    "Requirement already satisfied: traitlets>=4.2.1 in c:\\users\\namjoo\\envs\\jupyter\\lib\\site-packages (from notebook>=4.3.1->jupyterlab) (5.0.5)\n",
    "Requirement already satisfied: pyzmq>=17 in c:\\users\\namjoo\\envs\\jupyter\\lib\\site-packages (from notebook>=4.3.1->jupyterlab) (20.0.0)\n",
    "Requirement already satisfied: jupyter-core>=4.6.1 in c:\\users\\namjoo\\envs\\jupyter\\lib\\site-packages (from notebook>=4.3.1->jupyterlab) (4.7.0)\n",
    "Requirement already satisfied: ipykernel in c:\\users\\namjoo\\envs\\jupyter\\lib\\site-packages (from notebook>=4.3.1->jupyterlab) (5.3.4)\n",
    "Requirement already satisfied: nbconvert in c:\\users\\namjoo\\envs\\jupyter\\lib\\site-packages (from notebook>=4.3.1->jupyterlab) (6.0.7)\n",
    "Requirement already satisfied: Send2Trash in c:\\users\\namjoo\\envs\\jupyter\\lib\\site-packages (from notebook>=4.3.1->jupyterlab) (1.5.0)\n",
    "Requirement already satisfied: nbformat in c:\\users\\namjoo\\envs\\jupyter\\lib\\site-packages (from notebook>=4.3.1->jupyterlab) (5.0.8)\n",
    "Requirement already satisfied: terminado>=0.8.3 in c:\\users\\namjoo\\envs\\jupyter\\lib\\site-packages (from notebook>=4.3.1->jupyterlab) (0.9.1)\n",
    "Requirement already satisfied: prometheus-client in c:\\users\\namjoo\\envs\\jupyter\\lib\\site-packages (from notebook>=4.3.1->jupyterlab) (0.9.0)\n",
    "Requirement already satisfied: argon2-cffi in c:\\users\\namjoo\\envs\\jupyter\\lib\\site-packages (from notebook>=4.3.1->jupyterlab) (20.1.0)\n",
    "Requirement already satisfied: jupyter-client>=5.3.4 in c:\\users\\namjoo\\envs\\jupyter\\lib\\site-packages (from notebook>=4.3.1->jupyterlab) (6.1.7)\n",
    "Requirement already satisfied: jsonschema>=3.0.1 in c:\\users\\namjoo\\envs\\jupyter\\lib\\site-packages (from jupyterlab-server<2.0,>=1.1.5->jupyterlab) (3.2.0)\n",
    "Collecting json5\n",
    "  Downloading json5-0.9.5-py2.py3-none-any.whl (17 kB)\n",
    "Collecting requests\n",
    "  Downloading requests-2.25.0-py2.py3-none-any.whl (61 kB)\n",
    "     |████████████████████████████████| 61 kB 23 kB/s\n",
    "Requirement already satisfied: pywin32>=1.0; sys_platform == \"win32\" in c:\\users\\namjoo\\envs\\jupyter\\lib\\site-packages (from jupyter-core>=4.6.1->notebook>=4.3.1->jupyterlab) (300)\n",
    "Requirement already satisfied: ipython>=5.0.0 in c:\\users\\namjoo\\envs\\jupyter\\lib\\site-packages (from ipykernel->notebook>=4.3.1->jupyterlab) (7.19.0)\n",
    "Requirement already satisfied: nbclient<0.6.0,>=0.5.0 in c:\\users\\namjoo\\envs\\jupyter\\lib\\site-packages (from nbconvert->notebook>=4.3.1->jupyterlab) (0.5.1)\n",
    "Requirement already satisfied: jupyterlab-pygments in c:\\users\\namjoo\\envs\\jupyter\\lib\\site-packages (from nbconvert->notebook>=4.3.1->jupyterlab) (0.1.2)\n",
    "Requirement already satisfied: mistune<2,>=0.8.1 in c:\\users\\namjoo\\envs\\jupyter\\lib\\site-packages (from nbconvert->notebook>=4.3.1->jupyterlab) (0.8.4)\n",
    "Requirement already satisfied: defusedxml in c:\\users\\namjoo\\envs\\jupyter\\lib\\site-packages (from nbconvert->notebook>=4.3.1->jupyterlab) (0.6.0)\n",
    "Requirement already satisfied: bleach in c:\\users\\namjoo\\envs\\jupyter\\lib\\site-packages (from nbconvert->notebook>=4.3.1->jupyterlab) (3.2.1)\n",
    "Requirement already satisfied: pygments>=2.4.1 in c:\\users\\namjoo\\envs\\jupyter\\lib\\site-packages (from nbconvert->notebook>=4.3.1->jupyterlab) (2.7.2)\n",
    "Requirement already satisfied: testpath in c:\\users\\namjoo\\envs\\jupyter\\lib\\site-packages (from nbconvert->notebook>=4.3.1->jupyterlab) (0.4.4)\n",
    "Requirement already satisfied: pandocfilters>=1.4.1 in c:\\users\\namjoo\\envs\\jupyter\\lib\\site-packages (from nbconvert->notebook>=4.3.1->jupyterlab) (1.4.3)\n",
    "Requirement already satisfied: entrypoints>=0.2.2 in c:\\users\\namjoo\\envs\\jupyter\\lib\\site-packages (from nbconvert->notebook>=4.3.1->jupyterlab) (0.3)\n",
    "Requirement already satisfied: pywinpty>=0.5; os_name == \"nt\" in c:\\users\\namjoo\\envs\\jupyter\\lib\\site-packages (from terminado>=0.8.3->notebook>=4.3.1->jupyterlab) (0.5.7)\n",
    "Requirement already satisfied: cffi>=1.0.0 in c:\\users\\namjoo\\envs\\jupyter\\lib\\site-packages (from argon2-cffi->notebook>=4.3.1->jupyterlab) (1.14.3)\n",
    "Requirement already satisfied: six in c:\\users\\namjoo\\envs\\jupyter\\lib\\site-packages (from argon2-cffi->notebook>=4.3.1->jupyterlab) (1.15.0)\n",
    "Requirement already satisfied: python-dateutil>=2.1 in c:\\users\\namjoo\\envs\\jupyter\\lib\\site-packages (from jupyter-client>=5.3.4->notebook>=4.3.1->jupyterlab) (2.8.1)\n",
    "Requirement already satisfied: attrs>=17.4.0 in c:\\users\\namjoo\\envs\\jupyter\\lib\\site-packages (from jsonschema>=3.0.1->jupyterlab-server<2.0,>=1.1.5->jupyterlab) (20.3.0)\n",
    "Requirement already satisfied: setuptools in c:\\users\\namjoo\\envs\\jupyter\\lib\\site-packages (from jsonschema>=3.0.1->jupyterlab-server<2.0,>=1.1.5->jupyterlab) (50.3.0)\n",
    "Requirement already satisfied: pyrsistent>=0.14.0 in c:\\users\\namjoo\\envs\\jupyter\\lib\\site-packages (from jsonschema>=3.0.1->jupyterlab-server<2.0,>=1.1.5->jupyterlab) (0.17.3)\n",
    "Collecting idna<3,>=2.5\n",
    "  Using cached idna-2.10-py2.py3-none-any.whl (58 kB)\n",
    "Collecting chardet<4,>=3.0.2\n",
    "  Using cached chardet-3.0.4-py2.py3-none-any.whl (133 kB)\n",
    "Collecting urllib3<1.27,>=1.21.1\n",
    "  Downloading urllib3-1.26.2-py2.py3-none-any.whl (136 kB)\n",
    "     |████████████████████████████████| 136 kB 34 kB/s\n",
    "Collecting certifi>=2017.4.17\n",
    "  Downloading certifi-2020.11.8-py2.py3-none-any.whl (155 kB)\n",
    "     |████████████████████████████████| 155 kB 33 kB/s\n",
    "Requirement already satisfied: decorator in c:\\users\\namjoo\\envs\\jupyter\\lib\\site-packages (from ipython>=5.0.0->ipykernel->notebook>=4.3.1->jupyterlab) (4.4.2)\n",
    "Requirement already satisfied: jedi>=0.10 in c:\\users\\namjoo\\envs\\jupyter\\lib\\site-packages (from ipython>=5.0.0->ipykernel->notebook>=4.3.1->jupyterlab) (0.17.2)\n",
    "Requirement already satisfied: colorama; sys_platform == \"win32\" in c:\\users\\namjoo\\envs\\jupyter\\lib\\site-packages (from ipython>=5.0.0->ipykernel->notebook>=4.3.1->jupyterlab) (0.4.4)\n",
    "Requirement already satisfied: pickleshare in c:\\users\\namjoo\\envs\\jupyter\\lib\\site-packages (from ipython>=5.0.0->ipykernel->notebook>=4.3.1->jupyterlab) (0.7.5)\n",
    "Requirement already satisfied: backcall in c:\\users\\namjoo\\envs\\jupyter\\lib\\site-packages (from ipython>=5.0.0->ipykernel->notebook>=4.3.1->jupyterlab) (0.2.0)\n",
    "Requirement already satisfied: prompt-toolkit!=3.0.0,!=3.0.1,<3.1.0,>=2.0.0 in c:\\users\\namjoo\\envs\\jupyter\\lib\\site-packages (from ipython>=5.0.0->ipykernel->notebook>=4.3.1->jupyterlab) (3.0.8)\n",
    "Requirement already satisfied: nest-asyncio in c:\\users\\namjoo\\envs\\jupyter\\lib\\site-packages (from nbclient<0.6.0,>=0.5.0->nbconvert->notebook>=4.3.1->jupyterlab) (1.4.3)\n",
    "Requirement already satisfied: async-generator in c:\\users\\namjoo\\envs\\jupyter\\lib\\site-packages (from nbclient<0.6.0,>=0.5.0->nbconvert->notebook>=4.3.1->jupyterlab) (1.10)\n",
    "Requirement already satisfied: webencodings in c:\\users\\namjoo\\envs\\jupyter\\lib\\site-packages (from bleach->nbconvert->notebook>=4.3.1->jupyterlab) (0.5.1)\n",
    "Requirement already satisfied: packaging in c:\\users\\namjoo\\envs\\jupyter\\lib\\site-packages (from bleach->nbconvert->notebook>=4.3.1->jupyterlab) (20.4)\n",
    "Requirement already satisfied: pycparser in c:\\users\\namjoo\\envs\\jupyter\\lib\\site-packages (from cffi>=1.0.0->argon2-cffi->notebook>=4.3.1->jupyterlab) (2.20)\n",
    "Requirement already satisfied: parso<0.8.0,>=0.7.0 in c:\\users\\namjoo\\envs\\jupyter\\lib\\site-packages (from jedi>=0.10->ipython>=5.0.0->ipykernel->notebook>=4.3.1->jupyterlab) (0.7.1)\n",
    "Requirement already satisfied: wcwidth in c:\\users\\namjoo\\envs\\jupyter\\lib\\site-packages (from prompt-toolkit!=3.0.0,!=3.0.1,<3.1.0,>=2.0.0->ipython>=5.0.0->ipykernel->notebook>=4.3.1->jupyterlab) (0.2.5)\n",
    "Requirement already satisfied: pyparsing>=2.0.2 in c:\\users\\namjoo\\envs\\jupyter\\lib\\site-packages (from packaging->bleach->nbconvert->notebook>=4.3.1->jupyterlab) (2.4.7)\n",
    "Installing collected packages: json5, idna, chardet, urllib3, certifi, requests, jupyterlab-server, jupyterlab\n",
    "Successfully installed certifi-2020.11.8 chardet-3.0.4 idna-2.10 json5-0.9.5 jupyterlab-2.2.9 jupyterlab-server-1.2.0 requests-2.25.0 urllib3-1.26.2\n",
    "\n",
    "</pre>"
   ]
  },
  {
   "cell_type": "markdown",
   "metadata": {},
   "source": [
    "### Run jupyterlab:"
   ]
  },
  {
   "cell_type": "code",
   "execution_count": null,
   "metadata": {},
   "outputs": [],
   "source": [
    "(jupyter) E:\\jupyter>jupyter lab"
   ]
  }
 ],
 "metadata": {
  "kernelspec": {
   "display_name": "Python 3",
   "language": "python",
   "name": "python3"
  },
  "language_info": {
   "codemirror_mode": {
    "name": "ipython",
    "version": 3
   },
   "file_extension": ".py",
   "mimetype": "text/x-python",
   "name": "python",
   "nbconvert_exporter": "python",
   "pygments_lexer": "ipython3",
   "version": "3.8.4"
  }
 },
 "nbformat": 4,
 "nbformat_minor": 4
}
